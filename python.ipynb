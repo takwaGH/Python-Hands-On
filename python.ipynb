{
 "cells": [
  {
   "cell_type": "markdown",
   "id": "8a32301e",
   "metadata": {},
   "source": [
    "# Q1: List_creation"
   ]
  },
  {
   "cell_type": "code",
   "execution_count": 3,
   "id": "307fd410",
   "metadata": {},
   "outputs": [
    {
     "name": "stdout",
     "output_type": "stream",
     "text": [
      "[2002, 2009, 2016, 2023, 2037, 2044, 2051, 2058, 2072, 2079, 2086, 2093, 2107, 2114, 2121, 2128, 2142, 2149, 2156, 2163, 2177, 2184, 2191, 2198, 2212, 2219, 2226, 2233, 2247, 2254, 2261, 2268, 2282, 2289, 2296, 2303, 2317, 2324, 2331, 2338, 2352, 2359, 2366, 2373, 2387, 2394, 2401, 2408, 2422, 2429, 2436, 2443, 2457, 2464, 2471, 2478, 2492, 2499, 2506, 2513, 2527, 2534, 2541, 2548, 2562, 2569, 2576, 2583, 2597, 2604, 2611, 2618, 2632, 2639, 2646, 2653, 2667, 2674, 2681, 2688, 2702, 2709, 2716, 2723, 2737, 2744, 2751, 2758, 2772, 2779, 2786, 2793, 2807, 2814, 2821, 2828, 2842, 2849, 2856, 2863, 2877, 2884, 2891, 2898, 2912, 2919, 2926, 2933, 2947, 2954, 2961, 2968, 2982, 2989, 2996, 3003, 3017, 3024, 3031, 3038, 3052, 3059, 3066, 3073, 3087, 3094, 3101, 3108, 3122, 3129, 3136, 3143, 3157, 3164, 3171, 3178, 3192, 3199]\n"
     ]
    }
   ],
   "source": [
    "Mylist = [ i for i in range(2000, 3200) \n",
    "if i % 7 == 0 and i % 5 != 0]\n",
    "print(Mylist)"
   ]
  },
  {
   "cell_type": "markdown",
   "id": "ed975109",
   "metadata": {},
   "source": [
    "# Q2: Factorial"
   ]
  },
  {
   "cell_type": "code",
   "execution_count": 4,
   "id": "49773394",
   "metadata": {},
   "outputs": [
    {
     "data": {
      "text/plain": [
       "120"
      ]
     },
     "execution_count": 4,
     "metadata": {},
     "output_type": "execute_result"
    }
   ],
   "source": [
    "def factorial(num):\n",
    "    if num <=1 :\n",
    "        return 1\n",
    "    else:\n",
    "        return num * factorial(num-1)\n",
    "factorial(5)"
   ]
  },
  {
   "cell_type": "markdown",
   "id": "990507b3",
   "metadata": {},
   "source": [
    "# Q3: Dictionary"
   ]
  },
  {
   "cell_type": "code",
   "execution_count": 5,
   "id": "f2e53a4b",
   "metadata": {},
   "outputs": [
    {
     "name": "stdout",
     "output_type": "stream",
     "text": [
      "enter a number 8\n",
      "{1: 1, 2: 4, 3: 9, 4: 16, 5: 25, 6: 36, 7: 49, 8: 64}\n"
     ]
    }
   ],
   "source": [
    "n=int(input(\"enter a number \"))\n",
    "d = dict()\n",
    "for i in range(1,n+1):\n",
    "    d[i]=i*i\n",
    "print(d) "
   ]
  },
  {
   "cell_type": "markdown",
   "id": "e28f33f3",
   "metadata": {},
   "source": [
    "# Q4: Missing_char"
   ]
  },
  {
   "cell_type": "code",
   "execution_count": 9,
   "id": "0ee47e4c",
   "metadata": {},
   "outputs": [
    {
     "name": "stdout",
     "output_type": "stream",
     "text": [
      "Enter the index of character to be removed : 1\n",
      "My new string : ktten\n"
     ]
    }
   ],
   "source": [
    "str =  (\"kitten\")\n",
    "i = int(input(\"Enter the index of character to be removed : \"))\n",
    "new_str =\"\"\n",
    "\n",
    "for n in range (0,len(str)):\n",
    "    if n != i:\n",
    "         new_str = new_str + str[n]\n",
    "print (\"My new string : \" + new_str)"
   ]
  },
  {
   "cell_type": "markdown",
   "id": "3afbafd4",
   "metadata": {},
   "source": [
    "# Q5: numpy_tolist"
   ]
  },
  {
   "cell_type": "code",
   "execution_count": 10,
   "id": "aba27a9b",
   "metadata": {},
   "outputs": [
    {
     "name": "stdout",
     "output_type": "stream",
     "text": [
      "[[0 1]\n",
      " [2 3]\n",
      " [4 5]]\n",
      "[[0, 1], [2, 3], [4, 5]]\n"
     ]
    }
   ],
   "source": [
    "import numpy as np\n",
    "array = np.array([[0,1],[2,3],[4,5]])\n",
    "l=array.tolist()\n",
    "print(array)\n",
    "print(l)"
   ]
  },
  {
   "cell_type": "markdown",
   "id": "7693ddc4",
   "metadata": {},
   "source": [
    "# Q6: np_cov "
   ]
  },
  {
   "cell_type": "code",
   "execution_count": 11,
   "id": "a9da3f3d",
   "metadata": {},
   "outputs": [
    {
     "name": "stdout",
     "output_type": "stream",
     "text": [
      "[[ 1. -1.]\n",
      " [-1.  1.]]\n"
     ]
    }
   ],
   "source": [
    "import numpy as np\n",
    "array1 = np.array([0, 1, 2])\n",
    "array2 = np.array([2, 1, 0])\n",
    "r = np.cov(array1, array2)\n",
    "print(r)"
   ]
  },
  {
   "cell_type": "markdown",
   "id": "04aeb16e",
   "metadata": {},
   "source": [
    "# Q7: square_root"
   ]
  },
  {
   "cell_type": "code",
   "execution_count": 12,
   "id": "4375444d",
   "metadata": {},
   "outputs": [
    {
     "name": "stdout",
     "output_type": "stream",
     "text": [
      "Enter D: 100\n",
      "[18]\n"
     ]
    }
   ],
   "source": [
    "import math\n",
    "\n",
    "Values = input(\"Enter D: \")\n",
    "Values = Values.split(',')\n",
    "\n",
    "result = []\n",
    "for D in Values:\n",
    "    Q = round(math.sqrt(2 * 50 * int(D) / 30))\n",
    "    result.append(Q)\n",
    "\n",
    "print(result)"
   ]
  },
  {
   "cell_type": "code",
   "execution_count": null,
   "id": "27f0f959",
   "metadata": {},
   "outputs": [],
   "source": []
  }
 ],
 "metadata": {
  "kernelspec": {
   "display_name": "Python 3 (ipykernel)",
   "language": "python",
   "name": "python3"
  },
  "language_info": {
   "codemirror_mode": {
    "name": "ipython",
    "version": 3
   },
   "file_extension": ".py",
   "mimetype": "text/x-python",
   "name": "python",
   "nbconvert_exporter": "python",
   "pygments_lexer": "ipython3",
   "version": "3.9.7"
  }
 },
 "nbformat": 4,
 "nbformat_minor": 5
}
